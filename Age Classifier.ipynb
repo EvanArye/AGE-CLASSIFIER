{
 "cells": [
  {
   "cell_type": "code",
   "execution_count": 5,
   "metadata": {},
   "outputs": [
    {
     "name": "stdout",
     "output_type": "stream",
     "text": [
      "Invalid. No negative age.\n"
     ]
    }
   ],
   "source": [
    "def classify_age(age):\n",
    "    if age < 0:\n",
    "        print(\"Invalid. No negative age.\")\n",
    "    elif age <= 12:\n",
    "        print(\"You are a Child.\")\n",
    "    elif age <= 19:\n",
    "        print(\"You are a Teen.\")\n",
    "    elif age <= 64:\n",
    "        print(\"You are an Adult.\")\n",
    "    else:\n",
    "        print(\"You are a Senior.\")\n",
    "\n",
    "classify_age(age)"
   ]
  }
 ],
 "metadata": {
  "kernelspec": {
   "display_name": "Python 3 (ipykernel)",
   "language": "python",
   "name": "python3"
  },
  "language_info": {
   "codemirror_mode": {
    "name": "ipython",
    "version": 3
   },
   "file_extension": ".py",
   "mimetype": "text/x-python",
   "name": "python",
   "nbconvert_exporter": "python",
   "pygments_lexer": "ipython3",
   "version": "3.11.0"
  }
 },
 "nbformat": 4,
 "nbformat_minor": 4
}
